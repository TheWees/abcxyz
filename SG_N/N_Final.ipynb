{
 "cells": [
  {
   "cell_type": "code",
   "execution_count": 37,
   "metadata": {},
   "outputs": [],
   "source": [
    "from __future__ import print_function, division\n",
    "from builtins import range, input\n",
    "\n",
    "# filter warnings\n",
    "import warnings\n",
    "warnings.simplefilter(action=\"ignore\", category=FutureWarning)\n",
    "\n",
    "import numpy as np\n",
    "import pandas as pd \n",
    "import matplotlib.pyplot as plt\n",
    "#if export to py file, need remove this\n",
    "# %matplotlib inline\n",
    "import cv2\n",
    "import random\n",
    "import time\n",
    "import shutil\n",
    "import os\n",
    "import pickle\n",
    "from keras.preprocessing.text import Tokenizer\n",
    "from keras.preprocessing.sequence import pad_sequences\n",
    "from keras.preprocessing.image import ImageDataGenerator, array_to_img, img_to_array, load_img\n",
    "from keras.models import Sequential, load_model\n",
    "from keras.layers import Conv2D, MaxPooling2D\n",
    "from keras.layers import Dense, Activation, Flatten, Dropout\n",
    "from keras.layers import Embedding, concatenate\n",
    "from keras.callbacks import EarlyStopping\n",
    "from keras.layers import Bidirectional\n",
    "from keras.layers.recurrent import LSTM\n",
    "from keras_self_attention import SeqSelfAttention\n",
    "\n",
    "from keras import utils, optimizers, Model\n",
    "import tensorflow as tf\n",
    "from imblearn.over_sampling import RandomOverSampler\n",
    "from keras.applications.vgg16 import VGG16\n",
    "\n",
    "\n",
    "category = \"beauty\" # to change\n",
    "category_index = 3"
   ]
  },
  {
   "cell_type": "code",
   "execution_count": 8,
   "metadata": {},
   "outputs": [
    {
     "name": "stdout",
     "output_type": "stream",
     "text": [
      "0    beauty_image/6b2e9cbb279ac95703348368aa65da09.jpg\n",
      "1    beauty_image/20450222d857c9571ba8fa23bdedc8c9.jpg\n",
      "2    beauty_image/6a5962bed605a3dd6604ca3a4278a4f9.jpg\n",
      "3    beauty_image/56987ae186e8a8e71fcc5a261ca485da.jpg\n",
      "4    beauty_image/9c6968066ebab57588c2f757a240d8b9.jpg\n",
      "Name: image_path, dtype: object\n"
     ]
    }
   ],
   "source": [
    "data_train = pd.read_csv(\"ndsc-advanced/\" + category + \"_data_info_train_competition.csv\")\n",
    "file_names = pd.DataFrame(data_train['image_path']).image_path\n",
    "ext = '.jpg'\n",
    "data_train[\"image_path\"] = [(s + ext) if s.find(\".jpg\") == -1 else s for s in data_train['image_path']]\n",
    "print(data_train.image_path[0:5])\n",
    "# plt.imshow(cv2.cvtColor(cv2.imread(file_names[0] + ext),cv2.COLOR_BGR2RGB))"
   ]
  },
  {
   "cell_type": "code",
   "execution_count": 9,
   "metadata": {},
   "outputs": [
    {
     "name": "stdout",
     "output_type": "stream",
     "text": [
      "0    beauty_image/1588591395c5a254bab84042005f2a9f.jpg\n",
      "1    beauty_image/920985ed9587ea20f58686ea74e20f93.jpg\n",
      "2    beauty_image/90b40e5710f54352b243fcfb0f5d1d7f.jpg\n",
      "3    beauty_image/289c668ef3d70e1d929d602d52d5d78a.jpg\n",
      "4    beauty_image/d5b3e652c5822d2306f4560488ec30c6.jpg\n",
      "Name: image_path, dtype: object\n"
     ]
    }
   ],
   "source": [
    "data_test = pd.read_csv(\"ndsc-advanced/\" + category + \"_data_info_val_competition.csv\")\n",
    "#file_names = pd.DataFrame(data_test['image_path']).image_path\n",
    "ext = '.jpg'\n",
    "data_test[\"image_path\"] = [(s + ext) if s.find(\".jpg\") == -1 else s for s in data_test['image_path']]\n",
    "print(data_test.image_path[0:5])\n",
    "#plt.imshow(cv2.cvtColor(cv2.imread(file_names[0] + ext),cv2.COLOR_BGR2RGB))"
   ]
  },
  {
   "cell_type": "code",
   "execution_count": 10,
   "metadata": {},
   "outputs": [
    {
     "name": "stdout",
     "output_type": "stream",
     "text": [
      "(286583, 8)\n",
      "itemid              int64\n",
      "title              object\n",
      "image_path         object\n",
      "Benefits            int32\n",
      "Brand               int32\n",
      "Colour_group        int32\n",
      "Product_texture     int32\n",
      "Skin_type           int32\n",
      "dtype: object\n"
     ]
    },
    {
     "data": {
      "text/html": [
       "<div>\n",
       "<style scoped>\n",
       "    .dataframe tbody tr th:only-of-type {\n",
       "        vertical-align: middle;\n",
       "    }\n",
       "\n",
       "    .dataframe tbody tr th {\n",
       "        vertical-align: top;\n",
       "    }\n",
       "\n",
       "    .dataframe thead th {\n",
       "        text-align: right;\n",
       "    }\n",
       "</style>\n",
       "<table border=\"1\" class=\"dataframe\">\n",
       "  <thead>\n",
       "    <tr style=\"text-align: right;\">\n",
       "      <th></th>\n",
       "      <th>itemid</th>\n",
       "      <th>title</th>\n",
       "      <th>image_path</th>\n",
       "      <th>Benefits</th>\n",
       "      <th>Brand</th>\n",
       "      <th>Colour_group</th>\n",
       "      <th>Product_texture</th>\n",
       "      <th>Skin_type</th>\n",
       "    </tr>\n",
       "  </thead>\n",
       "  <tbody>\n",
       "    <tr>\n",
       "      <th>0</th>\n",
       "      <td>307504</td>\n",
       "      <td>nyx sex bomb pallete natural palette</td>\n",
       "      <td>beauty_image/6b2e9cbb279ac95703348368aa65da09.jpg</td>\n",
       "      <td>1</td>\n",
       "      <td>157</td>\n",
       "      <td>-1</td>\n",
       "      <td>-1</td>\n",
       "      <td>-1</td>\n",
       "    </tr>\n",
       "    <tr>\n",
       "      <th>1</th>\n",
       "      <td>461203</td>\n",
       "      <td>etude house precious mineral any cushion pearl...</td>\n",
       "      <td>beauty_image/20450222d857c9571ba8fa23bdedc8c9.jpg</td>\n",
       "      <td>-1</td>\n",
       "      <td>73</td>\n",
       "      <td>11</td>\n",
       "      <td>7</td>\n",
       "      <td>-1</td>\n",
       "    </tr>\n",
       "    <tr>\n",
       "      <th>2</th>\n",
       "      <td>3592295</td>\n",
       "      <td>milani rose powder blush</td>\n",
       "      <td>beauty_image/6a5962bed605a3dd6604ca3a4278a4f9.jpg</td>\n",
       "      <td>-1</td>\n",
       "      <td>393</td>\n",
       "      <td>20</td>\n",
       "      <td>6</td>\n",
       "      <td>-1</td>\n",
       "    </tr>\n",
       "    <tr>\n",
       "      <th>3</th>\n",
       "      <td>4460167</td>\n",
       "      <td>etude house baby sweet sugar powder</td>\n",
       "      <td>beauty_image/56987ae186e8a8e71fcc5a261ca485da.jpg</td>\n",
       "      <td>-1</td>\n",
       "      <td>73</td>\n",
       "      <td>-1</td>\n",
       "      <td>6</td>\n",
       "      <td>-1</td>\n",
       "    </tr>\n",
       "    <tr>\n",
       "      <th>4</th>\n",
       "      <td>5853995</td>\n",
       "      <td>bedak revlon color stay aqua mineral make up</td>\n",
       "      <td>beauty_image/9c6968066ebab57588c2f757a240d8b9.jpg</td>\n",
       "      <td>3</td>\n",
       "      <td>47</td>\n",
       "      <td>-1</td>\n",
       "      <td>6</td>\n",
       "      <td>-1</td>\n",
       "    </tr>\n",
       "  </tbody>\n",
       "</table>\n",
       "</div>"
      ],
      "text/plain": [
       "    itemid                                              title  \\\n",
       "0   307504               nyx sex bomb pallete natural palette   \n",
       "1   461203  etude house precious mineral any cushion pearl...   \n",
       "2  3592295                           milani rose powder blush   \n",
       "3  4460167                etude house baby sweet sugar powder   \n",
       "4  5853995       bedak revlon color stay aqua mineral make up   \n",
       "\n",
       "                                          image_path  Benefits  Brand  \\\n",
       "0  beauty_image/6b2e9cbb279ac95703348368aa65da09.jpg         1    157   \n",
       "1  beauty_image/20450222d857c9571ba8fa23bdedc8c9.jpg        -1     73   \n",
       "2  beauty_image/6a5962bed605a3dd6604ca3a4278a4f9.jpg        -1    393   \n",
       "3  beauty_image/56987ae186e8a8e71fcc5a261ca485da.jpg        -1     73   \n",
       "4  beauty_image/9c6968066ebab57588c2f757a240d8b9.jpg         3     47   \n",
       "\n",
       "   Colour_group  Product_texture  Skin_type  \n",
       "0            -1               -1         -1  \n",
       "1            11                7         -1  \n",
       "2            20                6         -1  \n",
       "3            -1                6         -1  \n",
       "4            -1                6         -1  "
      ]
     },
     "execution_count": 10,
     "metadata": {},
     "output_type": "execute_result"
    }
   ],
   "source": [
    "data_train.columns[3:]\n",
    "for col in data_train.columns[3:]:\n",
    "    data_train[col] = data_train[col].fillna(-1).astype('int32')\n",
    "print(data_train.shape)\n",
    "print(data_train.dtypes)\n",
    "data_train.head()"
   ]
  },
  {
   "cell_type": "code",
   "execution_count": 11,
   "metadata": {},
   "outputs": [
    {
     "name": "stdout",
     "output_type": "stream",
     "text": [
      "(76545, 3)\n",
      "itemid         int64\n",
      "title         object\n",
      "image_path    object\n",
      "dtype: object\n"
     ]
    },
    {
     "data": {
      "text/html": [
       "<div>\n",
       "<style scoped>\n",
       "    .dataframe tbody tr th:only-of-type {\n",
       "        vertical-align: middle;\n",
       "    }\n",
       "\n",
       "    .dataframe tbody tr th {\n",
       "        vertical-align: top;\n",
       "    }\n",
       "\n",
       "    .dataframe thead th {\n",
       "        text-align: right;\n",
       "    }\n",
       "</style>\n",
       "<table border=\"1\" class=\"dataframe\">\n",
       "  <thead>\n",
       "    <tr style=\"text-align: right;\">\n",
       "      <th></th>\n",
       "      <th>itemid</th>\n",
       "      <th>title</th>\n",
       "      <th>image_path</th>\n",
       "    </tr>\n",
       "  </thead>\n",
       "  <tbody>\n",
       "    <tr>\n",
       "      <th>0</th>\n",
       "      <td>370855998</td>\n",
       "      <td>flormar 7 white cream bb spf 30 40ml</td>\n",
       "      <td>beauty_image/1588591395c5a254bab84042005f2a9f.jpg</td>\n",
       "    </tr>\n",
       "    <tr>\n",
       "      <th>1</th>\n",
       "      <td>637234604</td>\n",
       "      <td>maybelline clear smooth all in one bb cream sp...</td>\n",
       "      <td>beauty_image/920985ed9587ea20f58686ea74e20f93.jpg</td>\n",
       "    </tr>\n",
       "    <tr>\n",
       "      <th>2</th>\n",
       "      <td>690282890</td>\n",
       "      <td>murah innisfree eco natural green tea bb cream...</td>\n",
       "      <td>beauty_image/90b40e5710f54352b243fcfb0f5d1d7f.jpg</td>\n",
       "    </tr>\n",
       "    <tr>\n",
       "      <th>3</th>\n",
       "      <td>930913462</td>\n",
       "      <td>loreal white perfect day cream spf 17 pa white...</td>\n",
       "      <td>beauty_image/289c668ef3d70e1d929d602d52d5d78a.jpg</td>\n",
       "    </tr>\n",
       "    <tr>\n",
       "      <th>4</th>\n",
       "      <td>1039280071</td>\n",
       "      <td>hada labo cc cream ultimate anti aging spf 35 ...</td>\n",
       "      <td>beauty_image/d5b3e652c5822d2306f4560488ec30c6.jpg</td>\n",
       "    </tr>\n",
       "  </tbody>\n",
       "</table>\n",
       "</div>"
      ],
      "text/plain": [
       "       itemid                                              title  \\\n",
       "0   370855998               flormar 7 white cream bb spf 30 40ml   \n",
       "1   637234604  maybelline clear smooth all in one bb cream sp...   \n",
       "2   690282890  murah innisfree eco natural green tea bb cream...   \n",
       "3   930913462  loreal white perfect day cream spf 17 pa white...   \n",
       "4  1039280071  hada labo cc cream ultimate anti aging spf 35 ...   \n",
       "\n",
       "                                          image_path  \n",
       "0  beauty_image/1588591395c5a254bab84042005f2a9f.jpg  \n",
       "1  beauty_image/920985ed9587ea20f58686ea74e20f93.jpg  \n",
       "2  beauty_image/90b40e5710f54352b243fcfb0f5d1d7f.jpg  \n",
       "3  beauty_image/289c668ef3d70e1d929d602d52d5d78a.jpg  \n",
       "4  beauty_image/d5b3e652c5822d2306f4560488ec30c6.jpg  "
      ]
     },
     "execution_count": 11,
     "metadata": {},
     "output_type": "execute_result"
    }
   ],
   "source": [
    "data_test.columns[3:]\n",
    "for col in data_test.columns[3:]:\n",
    "    data_test[col] = data_test[col].fillna(-1).astype('int32')\n",
    "print(data_test.shape)\n",
    "print(data_test.dtypes)\n",
    "data_test.head()"
   ]
  },
  {
   "cell_type": "code",
   "execution_count": 12,
   "metadata": {},
   "outputs": [
    {
     "name": "stdout",
     "output_type": "stream",
     "text": [
      "before removing null: (286583, 4)\n",
      "1    37955\n",
      "3    28419\n",
      "6    26822\n",
      "4    12577\n",
      "5     4930\n",
      "2     2841\n",
      "0       12\n",
      "Name: Benefits, dtype: int64\n",
      "after removing null: (113556, 4)\n",
      "itemid         int64\n",
      "title         object\n",
      "image_path    object\n",
      "Benefits      object\n",
      "dtype: object\n"
     ]
    },
    {
     "data": {
      "text/html": [
       "<div>\n",
       "<style scoped>\n",
       "    .dataframe tbody tr th:only-of-type {\n",
       "        vertical-align: middle;\n",
       "    }\n",
       "\n",
       "    .dataframe tbody tr th {\n",
       "        vertical-align: top;\n",
       "    }\n",
       "\n",
       "    .dataframe thead th {\n",
       "        text-align: right;\n",
       "    }\n",
       "</style>\n",
       "<table border=\"1\" class=\"dataframe\">\n",
       "  <thead>\n",
       "    <tr style=\"text-align: right;\">\n",
       "      <th></th>\n",
       "      <th>itemid</th>\n",
       "      <th>title</th>\n",
       "      <th>image_path</th>\n",
       "      <th>Benefits</th>\n",
       "    </tr>\n",
       "  </thead>\n",
       "  <tbody>\n",
       "    <tr>\n",
       "      <th>0</th>\n",
       "      <td>307504</td>\n",
       "      <td>nyx sex bomb pallete natural palette</td>\n",
       "      <td>beauty_image/6b2e9cbb279ac95703348368aa65da09.jpg</td>\n",
       "      <td>1</td>\n",
       "    </tr>\n",
       "    <tr>\n",
       "      <th>4</th>\n",
       "      <td>5853995</td>\n",
       "      <td>bedak revlon color stay aqua mineral make up</td>\n",
       "      <td>beauty_image/9c6968066ebab57588c2f757a240d8b9.jpg</td>\n",
       "      <td>3</td>\n",
       "    </tr>\n",
       "    <tr>\n",
       "      <th>5</th>\n",
       "      <td>6208490</td>\n",
       "      <td>dr pure whitening cream</td>\n",
       "      <td>beauty_image/77e6b7e9d5544adbfda6809b2351c4fa.jpg</td>\n",
       "      <td>6</td>\n",
       "    </tr>\n",
       "    <tr>\n",
       "      <th>8</th>\n",
       "      <td>9184082</td>\n",
       "      <td>sunprise all proof spf 50</td>\n",
       "      <td>beauty_image/970b32aa659689f371516e5ceb423e25.jpg</td>\n",
       "      <td>6</td>\n",
       "    </tr>\n",
       "    <tr>\n",
       "      <th>11</th>\n",
       "      <td>11425757</td>\n",
       "      <td>milani rose powder blush tea</td>\n",
       "      <td>beauty_image/61c6562efdb08df862c57c393d85165e.jpg</td>\n",
       "      <td>1</td>\n",
       "    </tr>\n",
       "  </tbody>\n",
       "</table>\n",
       "</div>"
      ],
      "text/plain": [
       "      itemid                                         title  \\\n",
       "0     307504          nyx sex bomb pallete natural palette   \n",
       "4    5853995  bedak revlon color stay aqua mineral make up   \n",
       "5    6208490                       dr pure whitening cream   \n",
       "8    9184082                     sunprise all proof spf 50   \n",
       "11  11425757                  milani rose powder blush tea   \n",
       "\n",
       "                                           image_path Benefits  \n",
       "0   beauty_image/6b2e9cbb279ac95703348368aa65da09.jpg        1  \n",
       "4   beauty_image/9c6968066ebab57588c2f757a240d8b9.jpg        3  \n",
       "5   beauty_image/77e6b7e9d5544adbfda6809b2351c4fa.jpg        6  \n",
       "8   beauty_image/970b32aa659689f371516e5ceb423e25.jpg        6  \n",
       "11  beauty_image/61c6562efdb08df862c57c393d85165e.jpg        1  "
      ]
     },
     "execution_count": 12,
     "metadata": {},
     "output_type": "execute_result"
    }
   ],
   "source": [
    "# tackle first category first - to change\n",
    "\n",
    "df = data_train.iloc[:,[0,1,2,category_index]].copy()\n",
    "print(\"before removing null:\", df.shape)\n",
    "df = df[df.iloc[:,3] != -1]\n",
    "print(df.iloc[:,3].value_counts())\n",
    "# print(df.iloc[:,3].value_counts().shape)\n",
    "print(\"after removing null:\", df.shape)\n",
    "df.iloc[:,3] = df.iloc[:,3].astype('str') #required to convert to str\n",
    "print(df.dtypes)\n",
    "df.head()"
   ]
  },
  {
   "cell_type": "code",
   "execution_count": 13,
   "metadata": {},
   "outputs": [
    {
     "name": "stdout",
     "output_type": "stream",
     "text": [
      "7\n",
      "attribute: Benefits\n"
     ]
    }
   ],
   "source": [
    "len_unique_values = len(df.iloc[:,3].unique())\n",
    "print(len_unique_values)\n",
    "attribute = df.columns[3]\n",
    "print(\"attribute:\", attribute)"
   ]
  },
  {
   "cell_type": "code",
   "execution_count": 14,
   "metadata": {},
   "outputs": [
    {
     "name": "stdout",
     "output_type": "stream",
     "text": [
      "113556\n",
      "265685\n",
      "5    37955\n",
      "1    37955\n",
      "2    37955\n",
      "3    37955\n",
      "4    37955\n",
      "6    37955\n",
      "0    37955\n",
      "Name: Benefits, dtype: int64\n"
     ]
    },
    {
     "data": {
      "text/html": [
       "<div>\n",
       "<style scoped>\n",
       "    .dataframe tbody tr th:only-of-type {\n",
       "        vertical-align: middle;\n",
       "    }\n",
       "\n",
       "    .dataframe tbody tr th {\n",
       "        vertical-align: top;\n",
       "    }\n",
       "\n",
       "    .dataframe thead th {\n",
       "        text-align: right;\n",
       "    }\n",
       "</style>\n",
       "<table border=\"1\" class=\"dataframe\">\n",
       "  <thead>\n",
       "    <tr style=\"text-align: right;\">\n",
       "      <th></th>\n",
       "      <th>itemid</th>\n",
       "      <th>title</th>\n",
       "      <th>image_path</th>\n",
       "      <th>Benefits</th>\n",
       "    </tr>\n",
       "  </thead>\n",
       "  <tbody>\n",
       "    <tr>\n",
       "      <th>0</th>\n",
       "      <td>307504</td>\n",
       "      <td>nyx sex bomb pallete natural palette</td>\n",
       "      <td>beauty_image/6b2e9cbb279ac95703348368aa65da09.jpg</td>\n",
       "      <td>1</td>\n",
       "    </tr>\n",
       "    <tr>\n",
       "      <th>1</th>\n",
       "      <td>5853995</td>\n",
       "      <td>bedak revlon color stay aqua mineral make up</td>\n",
       "      <td>beauty_image/9c6968066ebab57588c2f757a240d8b9.jpg</td>\n",
       "      <td>3</td>\n",
       "    </tr>\n",
       "    <tr>\n",
       "      <th>2</th>\n",
       "      <td>6208490</td>\n",
       "      <td>dr pure whitening cream</td>\n",
       "      <td>beauty_image/77e6b7e9d5544adbfda6809b2351c4fa.jpg</td>\n",
       "      <td>6</td>\n",
       "    </tr>\n",
       "    <tr>\n",
       "      <th>3</th>\n",
       "      <td>9184082</td>\n",
       "      <td>sunprise all proof spf 50</td>\n",
       "      <td>beauty_image/970b32aa659689f371516e5ceb423e25.jpg</td>\n",
       "      <td>6</td>\n",
       "    </tr>\n",
       "    <tr>\n",
       "      <th>4</th>\n",
       "      <td>11425757</td>\n",
       "      <td>milani rose powder blush tea</td>\n",
       "      <td>beauty_image/61c6562efdb08df862c57c393d85165e.jpg</td>\n",
       "      <td>1</td>\n",
       "    </tr>\n",
       "  </tbody>\n",
       "</table>\n",
       "</div>"
      ],
      "text/plain": [
       "     itemid                                         title  \\\n",
       "0    307504          nyx sex bomb pallete natural palette   \n",
       "1   5853995  bedak revlon color stay aqua mineral make up   \n",
       "2   6208490                       dr pure whitening cream   \n",
       "3   9184082                     sunprise all proof spf 50   \n",
       "4  11425757                  milani rose powder blush tea   \n",
       "\n",
       "                                          image_path Benefits  \n",
       "0  beauty_image/6b2e9cbb279ac95703348368aa65da09.jpg        1  \n",
       "1  beauty_image/9c6968066ebab57588c2f757a240d8b9.jpg        3  \n",
       "2  beauty_image/77e6b7e9d5544adbfda6809b2351c4fa.jpg        6  \n",
       "3  beauty_image/970b32aa659689f371516e5ceb423e25.jpg        6  \n",
       "4  beauty_image/61c6562efdb08df862c57c393d85165e.jpg        1  "
      ]
     },
     "execution_count": 14,
     "metadata": {},
     "output_type": "execute_result"
    }
   ],
   "source": [
    "df_X = df.iloc[:,:3]\n",
    "df_y = list(df.iloc[:,3])\n",
    "print(len(df_y))\n",
    "ros = RandomOverSampler(random_state=0)\n",
    "X_resampled, y_resampled = ros.fit_resample(df_X, df_y)\n",
    "print(len(y_resampled))\n",
    "df_resampled = pd.DataFrame(data=X_resampled, columns=df.columns[0:3])\n",
    "df_resampled[attribute] = y_resampled\n",
    "print(df_resampled.iloc[:,3].value_counts())\n",
    "df_resampled.head()"
   ]
  },
  {
   "cell_type": "code",
   "execution_count": 15,
   "metadata": {},
   "outputs": [
    {
     "name": "stdout",
     "output_type": "stream",
     "text": [
      "len(train_index): 185979 ,  len(val_index): 79706\n"
     ]
    }
   ],
   "source": [
    "# for train data\n",
    "df_resampled_records = df_resampled.shape[0]\n",
    "\n",
    "# train (0) or val (1)\n",
    "random.seed(30)\n",
    "train_index = random.sample(range(df_resampled_records),  int(df_resampled_records*0.7)) #adjust the proportion\n",
    "val_index = list(set(range(df_resampled_records)) - set(train_index))\n",
    "print(\"len(train_index):\", len(train_index), \", \", \"len(val_index):\", len(val_index))"
   ]
  },
  {
   "cell_type": "code",
   "execution_count": 16,
   "metadata": {},
   "outputs": [
    {
     "name": "stdout",
     "output_type": "stream",
     "text": [
      "(265685, 4)\n"
     ]
    },
    {
     "data": {
      "text/html": [
       "<div>\n",
       "<style scoped>\n",
       "    .dataframe tbody tr th:only-of-type {\n",
       "        vertical-align: middle;\n",
       "    }\n",
       "\n",
       "    .dataframe tbody tr th {\n",
       "        vertical-align: top;\n",
       "    }\n",
       "\n",
       "    .dataframe thead th {\n",
       "        text-align: right;\n",
       "    }\n",
       "</style>\n",
       "<table border=\"1\" class=\"dataframe\">\n",
       "  <thead>\n",
       "    <tr style=\"text-align: right;\">\n",
       "      <th></th>\n",
       "      <th>itemid</th>\n",
       "      <th>title</th>\n",
       "      <th>image_path</th>\n",
       "      <th>Benefits</th>\n",
       "    </tr>\n",
       "  </thead>\n",
       "  <tbody>\n",
       "    <tr>\n",
       "      <th>0</th>\n",
       "      <td>307504</td>\n",
       "      <td>nyx sex bomb pallete natural palette</td>\n",
       "      <td>beauty_image/6b2e9cbb279ac95703348368aa65da09.jpg</td>\n",
       "      <td>1</td>\n",
       "    </tr>\n",
       "    <tr>\n",
       "      <th>1</th>\n",
       "      <td>5853995</td>\n",
       "      <td>bedak revlon color stay aqua mineral make up</td>\n",
       "      <td>beauty_image/9c6968066ebab57588c2f757a240d8b9.jpg</td>\n",
       "      <td>3</td>\n",
       "    </tr>\n",
       "    <tr>\n",
       "      <th>2</th>\n",
       "      <td>6208490</td>\n",
       "      <td>dr pure whitening cream</td>\n",
       "      <td>beauty_image/77e6b7e9d5544adbfda6809b2351c4fa.jpg</td>\n",
       "      <td>6</td>\n",
       "    </tr>\n",
       "    <tr>\n",
       "      <th>3</th>\n",
       "      <td>9184082</td>\n",
       "      <td>sunprise all proof spf 50</td>\n",
       "      <td>beauty_image/970b32aa659689f371516e5ceb423e25.jpg</td>\n",
       "      <td>6</td>\n",
       "    </tr>\n",
       "    <tr>\n",
       "      <th>4</th>\n",
       "      <td>11425757</td>\n",
       "      <td>milani rose powder blush tea</td>\n",
       "      <td>beauty_image/61c6562efdb08df862c57c393d85165e.jpg</td>\n",
       "      <td>1</td>\n",
       "    </tr>\n",
       "  </tbody>\n",
       "</table>\n",
       "</div>"
      ],
      "text/plain": [
       "     itemid                                         title  \\\n",
       "0    307504          nyx sex bomb pallete natural palette   \n",
       "1   5853995  bedak revlon color stay aqua mineral make up   \n",
       "2   6208490                       dr pure whitening cream   \n",
       "3   9184082                     sunprise all proof spf 50   \n",
       "4  11425757                  milani rose powder blush tea   \n",
       "\n",
       "                                          image_path Benefits  \n",
       "0  beauty_image/6b2e9cbb279ac95703348368aa65da09.jpg        1  \n",
       "1  beauty_image/9c6968066ebab57588c2f757a240d8b9.jpg        3  \n",
       "2  beauty_image/77e6b7e9d5544adbfda6809b2351c4fa.jpg        6  \n",
       "3  beauty_image/970b32aa659689f371516e5ceb423e25.jpg        6  \n",
       "4  beauty_image/61c6562efdb08df862c57c393d85165e.jpg        1  "
      ]
     },
     "execution_count": 16,
     "metadata": {},
     "output_type": "execute_result"
    }
   ],
   "source": [
    "print(df_resampled.shape)\n",
    "df_resampled.head()"
   ]
  },
  {
   "cell_type": "code",
   "execution_count": 17,
   "metadata": {},
   "outputs": [],
   "source": [
    "# for test data\n",
    "data_test_records = data_test.shape[0]"
   ]
  },
  {
   "cell_type": "code",
   "execution_count": 18,
   "metadata": {
    "scrolled": true
   },
   "outputs": [
    {
     "name": "stdout",
     "output_type": "stream",
     "text": [
      "(76545, 3)\n"
     ]
    },
    {
     "data": {
      "text/html": [
       "<div>\n",
       "<style scoped>\n",
       "    .dataframe tbody tr th:only-of-type {\n",
       "        vertical-align: middle;\n",
       "    }\n",
       "\n",
       "    .dataframe tbody tr th {\n",
       "        vertical-align: top;\n",
       "    }\n",
       "\n",
       "    .dataframe thead th {\n",
       "        text-align: right;\n",
       "    }\n",
       "</style>\n",
       "<table border=\"1\" class=\"dataframe\">\n",
       "  <thead>\n",
       "    <tr style=\"text-align: right;\">\n",
       "      <th></th>\n",
       "      <th>itemid</th>\n",
       "      <th>title</th>\n",
       "      <th>image_path</th>\n",
       "    </tr>\n",
       "  </thead>\n",
       "  <tbody>\n",
       "    <tr>\n",
       "      <th>0</th>\n",
       "      <td>370855998</td>\n",
       "      <td>flormar 7 white cream bb spf 30 40ml</td>\n",
       "      <td>beauty_image/1588591395c5a254bab84042005f2a9f.jpg</td>\n",
       "    </tr>\n",
       "    <tr>\n",
       "      <th>1</th>\n",
       "      <td>637234604</td>\n",
       "      <td>maybelline clear smooth all in one bb cream sp...</td>\n",
       "      <td>beauty_image/920985ed9587ea20f58686ea74e20f93.jpg</td>\n",
       "    </tr>\n",
       "    <tr>\n",
       "      <th>2</th>\n",
       "      <td>690282890</td>\n",
       "      <td>murah innisfree eco natural green tea bb cream...</td>\n",
       "      <td>beauty_image/90b40e5710f54352b243fcfb0f5d1d7f.jpg</td>\n",
       "    </tr>\n",
       "    <tr>\n",
       "      <th>3</th>\n",
       "      <td>930913462</td>\n",
       "      <td>loreal white perfect day cream spf 17 pa white...</td>\n",
       "      <td>beauty_image/289c668ef3d70e1d929d602d52d5d78a.jpg</td>\n",
       "    </tr>\n",
       "    <tr>\n",
       "      <th>4</th>\n",
       "      <td>1039280071</td>\n",
       "      <td>hada labo cc cream ultimate anti aging spf 35 ...</td>\n",
       "      <td>beauty_image/d5b3e652c5822d2306f4560488ec30c6.jpg</td>\n",
       "    </tr>\n",
       "  </tbody>\n",
       "</table>\n",
       "</div>"
      ],
      "text/plain": [
       "       itemid                                              title  \\\n",
       "0   370855998               flormar 7 white cream bb spf 30 40ml   \n",
       "1   637234604  maybelline clear smooth all in one bb cream sp...   \n",
       "2   690282890  murah innisfree eco natural green tea bb cream...   \n",
       "3   930913462  loreal white perfect day cream spf 17 pa white...   \n",
       "4  1039280071  hada labo cc cream ultimate anti aging spf 35 ...   \n",
       "\n",
       "                                          image_path  \n",
       "0  beauty_image/1588591395c5a254bab84042005f2a9f.jpg  \n",
       "1  beauty_image/920985ed9587ea20f58686ea74e20f93.jpg  \n",
       "2  beauty_image/90b40e5710f54352b243fcfb0f5d1d7f.jpg  \n",
       "3  beauty_image/289c668ef3d70e1d929d602d52d5d78a.jpg  \n",
       "4  beauty_image/d5b3e652c5822d2306f4560488ec30c6.jpg  "
      ]
     },
     "execution_count": 18,
     "metadata": {},
     "output_type": "execute_result"
    }
   ],
   "source": [
    "print(data_test.shape)\n",
    "data_test.head()"
   ]
  },
  {
   "cell_type": "code",
   "execution_count": 19,
   "metadata": {},
   "outputs": [
    {
     "data": {
      "text/html": [
       "<div>\n",
       "<style scoped>\n",
       "    .dataframe tbody tr th:only-of-type {\n",
       "        vertical-align: middle;\n",
       "    }\n",
       "\n",
       "    .dataframe tbody tr th {\n",
       "        vertical-align: top;\n",
       "    }\n",
       "\n",
       "    .dataframe thead th {\n",
       "        text-align: right;\n",
       "    }\n",
       "</style>\n",
       "<table border=\"1\" class=\"dataframe\">\n",
       "  <thead>\n",
       "    <tr style=\"text-align: right;\">\n",
       "      <th></th>\n",
       "      <th>itemid</th>\n",
       "      <th>title</th>\n",
       "      <th>image_path</th>\n",
       "      <th>Benefits</th>\n",
       "    </tr>\n",
       "  </thead>\n",
       "  <tbody>\n",
       "    <tr>\n",
       "      <th>0</th>\n",
       "      <td>307504</td>\n",
       "      <td>nyx sex bomb pallete natural palette</td>\n",
       "      <td>beauty_image/6b2e9cbb279ac95703348368aa65da09.jpg</td>\n",
       "      <td>1</td>\n",
       "    </tr>\n",
       "    <tr>\n",
       "      <th>1</th>\n",
       "      <td>5853995</td>\n",
       "      <td>bedak revlon color stay aqua mineral make up</td>\n",
       "      <td>beauty_image/9c6968066ebab57588c2f757a240d8b9.jpg</td>\n",
       "      <td>3</td>\n",
       "    </tr>\n",
       "    <tr>\n",
       "      <th>2</th>\n",
       "      <td>6208490</td>\n",
       "      <td>dr pure whitening cream</td>\n",
       "      <td>beauty_image/77e6b7e9d5544adbfda6809b2351c4fa.jpg</td>\n",
       "      <td>6</td>\n",
       "    </tr>\n",
       "    <tr>\n",
       "      <th>3</th>\n",
       "      <td>9184082</td>\n",
       "      <td>sunprise all proof spf 50</td>\n",
       "      <td>beauty_image/970b32aa659689f371516e5ceb423e25.jpg</td>\n",
       "      <td>6</td>\n",
       "    </tr>\n",
       "    <tr>\n",
       "      <th>4</th>\n",
       "      <td>11425757</td>\n",
       "      <td>milani rose powder blush tea</td>\n",
       "      <td>beauty_image/61c6562efdb08df862c57c393d85165e.jpg</td>\n",
       "      <td>1</td>\n",
       "    </tr>\n",
       "  </tbody>\n",
       "</table>\n",
       "</div>"
      ],
      "text/plain": [
       "     itemid                                         title  \\\n",
       "0    307504          nyx sex bomb pallete natural palette   \n",
       "1   5853995  bedak revlon color stay aqua mineral make up   \n",
       "2   6208490                       dr pure whitening cream   \n",
       "3   9184082                     sunprise all proof spf 50   \n",
       "4  11425757                  milani rose powder blush tea   \n",
       "\n",
       "                                          image_path Benefits  \n",
       "0  beauty_image/6b2e9cbb279ac95703348368aa65da09.jpg        1  \n",
       "1  beauty_image/9c6968066ebab57588c2f757a240d8b9.jpg        3  \n",
       "2  beauty_image/77e6b7e9d5544adbfda6809b2351c4fa.jpg        6  \n",
       "3  beauty_image/970b32aa659689f371516e5ceb423e25.jpg        6  \n",
       "4  beauty_image/61c6562efdb08df862c57c393d85165e.jpg        1  "
      ]
     },
     "execution_count": 19,
     "metadata": {},
     "output_type": "execute_result"
    }
   ],
   "source": [
    "df = df_resampled\n",
    "df.head()"
   ]
  },
  {
   "cell_type": "code",
   "execution_count": 20,
   "metadata": {},
   "outputs": [
    {
     "name": "stdout",
     "output_type": "stream",
     "text": [
      "docs.shape (265685,)\n",
      "['1' '3' '6' ... '6' '6' '6']\n"
     ]
    }
   ],
   "source": [
    "#for train set\n",
    "\n",
    "docs = df[\"title\"]\n",
    "docs.head()\n",
    "print(\"docs.shape\", docs.shape)\n",
    "# define class labels\n",
    "labels = np.array(df.iloc[:,3]) #the category we r interested in\n",
    "print(labels)\n",
    "# prepare tokenizer\n",
    "t = Tokenizer()\n",
    "t.fit_on_texts(docs)\n",
    "# print(\"t.word_index\", t.word_index)\n",
    "vocab_size = len(t.word_index) + 1\n",
    "# print(\"vocab_size\", vocab_size)"
   ]
  },
  {
   "cell_type": "code",
   "execution_count": 21,
   "metadata": {},
   "outputs": [
    {
     "name": "stdout",
     "output_type": "stream",
     "text": [
      "265685\n",
      "29\n",
      "[[   60  6196  5802 ...     0     0     0]\n",
      " [   23   259    17 ...     0     0     0]\n",
      " [  565   247    79 ...     0     0     0]\n",
      " ...\n",
      " [  354  1929    13 ...     0     0     0]\n",
      " [   84 10017    44 ...     0     0     0]\n",
      " [  230  2193   331 ...     0     0     0]]\n"
     ]
    }
   ],
   "source": [
    "# integer encode the documents\n",
    "encoded_docs = t.texts_to_sequences(docs)\n",
    "print(len(encoded_docs))\n",
    "# print(\"min of min:\", min(map(min,encoded_docs))) #min=1 so no conflict w padding\n",
    "# pad documents to a max length of n words\n",
    "max_length = max(map(len,encoded_docs))\n",
    "print(max_length)\n",
    "padded_docs = pad_sequences(encoded_docs, maxlen=max_length, padding='post')\n",
    "print(padded_docs)"
   ]
  },
  {
   "cell_type": "code",
   "execution_count": 22,
   "metadata": {},
   "outputs": [
    {
     "name": "stdout",
     "output_type": "stream",
     "text": [
      "docs_test.shape (76545,)\n"
     ]
    }
   ],
   "source": [
    "#for test set\n",
    "docs_test = data_test[\"title\"]\n",
    "docs_test.head()\n",
    "print(\"docs_test.shape\", docs_test.shape)"
   ]
  },
  {
   "cell_type": "code",
   "execution_count": 23,
   "metadata": {},
   "outputs": [
    {
     "name": "stdout",
     "output_type": "stream",
     "text": [
      "76545\n",
      "27\n",
      "[[1609  447   75 ...    0    0    0]\n",
      " [  29  207   71 ...    0    0    0]\n",
      " [  38   94 1145 ...    0    0    0]\n",
      " ...\n",
      " [  44   50 1014 ...    0    0    0]\n",
      " [2824    3   28 ...    0    0    0]\n",
      " [ 743   14  134 ...    0    0    0]]\n"
     ]
    }
   ],
   "source": [
    "# integer encode the documents\n",
    "encoded_docs_test = t.texts_to_sequences(docs_test)\n",
    "print(len(encoded_docs_test))\n",
    "max_length_test = max(map(len,encoded_docs_test))\n",
    "print(max_length_test)\n",
    "if(max_length_test <= max_length) :\n",
    "    padded_docs_test = pad_sequences(encoded_docs_test, maxlen=max_length, padding='post')\n",
    "else :\n",
    "    padded_docs_test = pad_sequences(encoded_docs_test, maxlen=max_length_test, padding='post')\n",
    "    padded_docs_test = padded_docs_test[:,:max_length] #trim to train size\n",
    "print(padded_docs_test)"
   ]
  },
  {
   "cell_type": "markdown",
   "metadata": {},
   "source": [
    "## Reading in embedding file, this is only required to run once to generate the pickle file"
   ]
  },
  {
   "cell_type": "code",
   "execution_count": 18,
   "metadata": {},
   "outputs": [],
   "source": [
    "# start_time = time.time()\n",
    "\n",
    "# word_embs = dict()\n",
    "# word_emb = []\n",
    "\n",
    "# with open(\"Codes/Beauty_Generic/indo/id.tsv\", 'r', errors='ignore') as fd:\n",
    "#     for row in fd.readlines():\n",
    "#         line_arr = row.split()\n",
    "# #         print(\"line_arr:\", line_arr)\n",
    "#         bracket_exists = \"[\" in line_arr #bracket before 1st '['\n",
    "#         if(bracket_exists): #first line\n",
    "#             line_arr.pop(2)\n",
    "#         if(bracket_exists and len(word_emb) != 0): #first line n previously there r items\n",
    "#             word_emb.pop(0) #remove index\n",
    "# #             print(\"\\t\", word_emb[len(word_emb)-1])\n",
    "#             word_emb[len(word_emb)-1] = word_emb[len(word_emb)-1][:-1] #last emb's ']'\n",
    "# #             print(\"\\t\", word_emb[len(word_emb)-1])\n",
    "#             word = word_emb[0]\n",
    "#             word_emb.pop(0)\n",
    "# #             print(\"word_emb:\", word_emb)\n",
    "#             word_embs[word] = list(map(float, word_emb))\n",
    "# #             print(\"\")\n",
    "#             word_emb = []\n",
    "# #             print(\"word_embs:\", word_embs)\n",
    "#         word_emb = word_emb + line_arr\n",
    "\n",
    "# word_emb.pop(0)\n",
    "# word_emb[len(word_emb)-1] = word_emb[len(word_emb)-1][:-1] #last emb's ']'\n",
    "# word = word_emb[0]\n",
    "# word_emb.pop(0)\n",
    "# word_embs[word] = list(map(float, word_emb))\n",
    "\n",
    "# print(\"time taken\", time.time() - start_time)\n",
    "\n",
    "# with open(\"indo_word_embs.pickle\", \"wb\") as f:\n",
    "#     pickle.dump(word_embs, f)\n",
    "\n",
    "# print(\"len(word_embs):\", len(word_embs))"
   ]
  },
  {
   "cell_type": "code",
   "execution_count": 24,
   "metadata": {},
   "outputs": [
    {
     "data": {
      "text/plain": [
       "300"
      ]
     },
     "execution_count": 24,
     "metadata": {},
     "output_type": "execute_result"
    }
   ],
   "source": [
    "with open(\"indo_word_embs.pickle\", \"rb\") as f:\n",
    "    word_embs = pickle.load(f)\n",
    "len(word_embs[\"young\"])"
   ]
  },
  {
   "cell_type": "code",
   "execution_count": 25,
   "metadata": {},
   "outputs": [
    {
     "data": {
      "text/plain": [
       "300"
      ]
     },
     "execution_count": 25,
     "metadata": {},
     "output_type": "execute_result"
    }
   ],
   "source": [
    "embedding_size = 300 #300 means use all\n",
    "word_embs1 = dict()\n",
    "for key, value in word_embs.items():\n",
    "    word_embs1[key] = value[0:embedding_size]\n",
    "len(word_embs1[\"young\"])"
   ]
  },
  {
   "cell_type": "code",
   "execution_count": 26,
   "metadata": {},
   "outputs": [],
   "source": [
    "embedding_matrix = np.zeros((vocab_size, embedding_size))\n",
    "for word, i in t.word_index.items():\n",
    "    embedding_vector = word_embs1.get(word)\n",
    "    if embedding_vector is not None:\n",
    "        embedding_matrix[i] = embedding_vector"
   ]
  },
  {
   "cell_type": "code",
   "execution_count": 27,
   "metadata": {},
   "outputs": [
    {
     "name": "stdout",
     "output_type": "stream",
     "text": [
      "7\n"
     ]
    }
   ],
   "source": [
    "#len_unique_values cannot represent the number of categories, cos they skipped some categories\n",
    "output_categories = utils.np_utils.to_categorical(labels[train_index,]).shape[1]\n",
    "print(output_categories)"
   ]
  },
  {
   "cell_type": "markdown",
   "metadata": {},
   "source": [
    "# CNN Model"
   ]
  },
  {
   "cell_type": "code",
   "execution_count": 28,
   "metadata": {},
   "outputs": [
    {
     "name": "stdout",
     "output_type": "stream",
     "text": [
      "_________________________________________________________________\n",
      "Layer (type)                 Output Shape              Param #   \n",
      "=================================================================\n",
      "embedding_1 (Embedding)      (None, 29, 300)           5215500   \n",
      "_________________________________________________________________\n",
      "conv1d_1 (Conv1D)            (None, 29, 64)            57664     \n",
      "_________________________________________________________________\n",
      "dropout_1 (Dropout)          (None, 29, 64)            0         \n",
      "_________________________________________________________________\n",
      "dense_1 (Dense)              (None, 29, 32)            2080      \n",
      "_________________________________________________________________\n",
      "dropout_2 (Dropout)          (None, 29, 32)            0         \n",
      "_________________________________________________________________\n",
      "flatten_1 (Flatten)          (None, 928)               0         \n",
      "_________________________________________________________________\n",
      "dense_2 (Dense)              (None, 7)                 6503      \n",
      "=================================================================\n",
      "Total params: 5,281,747\n",
      "Trainable params: 5,281,747\n",
      "Non-trainable params: 0\n",
      "_________________________________________________________________\n",
      "None\n"
     ]
    }
   ],
   "source": [
    "from keras.layers import Bidirectional, GlobalMaxPool1D\n",
    "from keras.layers.core import Dense, Dropout\n",
    "from keras.layers.recurrent import LSTM\n",
    "from keras.layers import Conv1D\n",
    "\n",
    "model_cnn = Sequential()\n",
    "model_cnn.add(Embedding(vocab_size, embedding_size, input_length=max_length))\n",
    "model_cnn.add(Conv1D(64, kernel_size=3, padding= 'same', activation='relu', input_shape=(None, 28, 300)))\n",
    "model_cnn.add(Dropout(0.5))\n",
    "model_cnn.add(Dense(32))\n",
    "model_cnn.add(Dropout(0.25))\n",
    "model_cnn.add(Flatten())\n",
    "model_cnn.add(Dense(output_categories, activation='softmax'))\n",
    "# compile the model\n",
    "model_cnn.compile(optimizer='adam', loss='categorical_crossentropy', metrics=['acc'])\n",
    "# summarize the model\n",
    "print(model_cnn.summary())"
   ]
  },
  {
   "cell_type": "code",
   "execution_count": null,
   "metadata": {},
   "outputs": [],
   "source": [
    "start_time = time.time()\n",
    "# early stopping\n",
    "es = EarlyStopping(monitor='val_acc', min_delta=0.001, mode='max', verbose=1, patience=2)\n",
    "# fit the model\n",
    "model_cnn.fit(padded_docs[train_index,], utils.np_utils.to_categorical(labels[train_index,]), epochs=15, \n",
    "          validation_split=0.33, verbose=1, callbacks=[es])\n",
    "# evaluate the model\n",
    "loss, accuracy = model_cnn.evaluate(padded_docs[val_index,], utils.np_utils.to_categorical(labels[val_index,]), verbose=1)\n",
    "print('Accuracy: %f' % (accuracy*100))\n",
    "print(\"time taken\", time.time() - start_time)"
   ]
  },
  {
   "cell_type": "code",
   "execution_count": null,
   "metadata": {},
   "outputs": [],
   "source": [
    " model_cnn.save(category + \"_\" + attribute +\".h5\")"
   ]
  },
  {
   "cell_type": "markdown",
   "metadata": {},
   "source": [
    "# LSTM Model"
   ]
  },
  {
   "cell_type": "code",
   "execution_count": 24,
   "metadata": {},
   "outputs": [
    {
     "name": "stdout",
     "output_type": "stream",
     "text": [
      "_________________________________________________________________\n",
      "Layer (type)                 Output Shape              Param #   \n",
      "=================================================================\n",
      "embedding_1 (Embedding)      (None, 29, 300)           5215500   \n",
      "_________________________________________________________________\n",
      "lstm_1 (LSTM)                (None, 64)                93440     \n",
      "_________________________________________________________________\n",
      "dense_1 (Dense)              (None, 7)                 455       \n",
      "=================================================================\n",
      "Total params: 5,309,395\n",
      "Trainable params: 5,309,395\n",
      "Non-trainable params: 0\n",
      "_________________________________________________________________\n",
      "None\n"
     ]
    }
   ],
   "source": [
    "from keras.layers import Bidirectional, GlobalMaxPool1D\n",
    "from keras.layers.recurrent import LSTM\n",
    "from keras.layers import Conv1D\n",
    "\n",
    "model = Sequential()\n",
    "model.add(Embedding(vocab_size, embedding_size, input_length=max_length))\n",
    "model.add(LSTM(64))\n",
    "model.add(Dense(output_categories, activation='softmax'))\n",
    " \n",
    "model.compile(loss='categorical_crossentropy', optimizer='adam', metrics=['accuracy'])\n",
    "\n",
    "print(model.summary())"
   ]
  },
  {
   "cell_type": "code",
   "execution_count": 48,
   "metadata": {},
   "outputs": [
    {
     "name": "stdout",
     "output_type": "stream",
     "text": [
      "(265685, 29)\n",
      "(265685,)\n"
     ]
    }
   ],
   "source": [
    "print(padded_docs.shape)\n",
    "print(labels.shape)"
   ]
  },
  {
   "cell_type": "code",
   "execution_count": null,
   "metadata": {
    "scrolled": true
   },
   "outputs": [
    {
     "name": "stdout",
     "output_type": "stream",
     "text": [
      "Train on 124605 samples, validate on 61374 samples\n",
      "Epoch 1/15\n",
      "124605/124605 [==============================] - 441s 4ms/step - loss: 0.4014 - acc: 0.8466 - val_loss: 0.2852 - val_acc: 0.8948\n",
      "Epoch 2/15\n",
      "124605/124605 [==============================] - 435s 3ms/step - loss: 0.2571 - acc: 0.9034 - val_loss: 0.2532 - val_acc: 0.9036\n",
      "Epoch 3/15\n",
      "124605/124605 [==============================] - 432s 3ms/step - loss: 0.2114 - acc: 0.9193 - val_loss: 0.2482 - val_acc: 0.9109\n",
      "Epoch 4/15\n",
      "124605/124605 [==============================] - 431s 3ms/step - loss: 0.1809 - acc: 0.9308 - val_loss: 0.2338 - val_acc: 0.9173\n",
      "Epoch 5/15\n",
      "124605/124605 [==============================] - 429s 3ms/step - loss: 0.1600 - acc: 0.9389 - val_loss: 0.2412 - val_acc: 0.9223\n",
      "Epoch 6/15\n",
      "124605/124605 [==============================] - 424s 3ms/step - loss: 0.1420 - acc: 0.9452 - val_loss: 0.2436 - val_acc: 0.9258\n",
      "Epoch 7/15\n",
      "124605/124605 [==============================] - 429s 3ms/step - loss: 0.1278 - acc: 0.9506 - val_loss: 0.2545 - val_acc: 0.9270\n",
      "Epoch 8/15\n",
      "124605/124605 [==============================] - 429s 3ms/step - loss: 0.1177 - acc: 0.9543 - val_loss: 0.2630 - val_acc: 0.9284\n",
      "Epoch 9/15\n",
      "124605/124605 [==============================] - 430s 3ms/step - loss: 0.1090 - acc: 0.9580 - val_loss: 0.2725 - val_acc: 0.9290\n",
      "Epoch 10/15\n",
      "124605/124605 [==============================] - 430s 3ms/step - loss: 0.1023 - acc: 0.9605 - val_loss: 0.2695 - val_acc: 0.9313\n",
      "Epoch 11/15\n",
      " 83104/124605 [===================>..........] - ETA: 2:10 - loss: 0.0929 - acc: 0.9645"
     ]
    }
   ],
   "source": [
    "start_time = time.time()\n",
    "# early stopping\n",
    "es = EarlyStopping(monitor='val_acc', min_delta=0.001, mode='max', verbose=1, patience=2)\n",
    "# fit the model\n",
    "model.fit(padded_docs[train_index,], utils.np_utils.to_categorical(labels[train_index,]), epochs=15, \n",
    "          validation_split=0.33, verbose=1, callbacks=[es])\n",
    "# evaluate the model\n",
    "loss, accuracy = model.evaluate(padded_docs[val_index,], utils.np_utils.to_categorical(labels[val_index,]), verbose=1)\n",
    "print('Accuracy: %f' % (accuracy*100))\n",
    "print(\"time taken\", time.time() - start_time)"
   ]
  },
  {
   "cell_type": "code",
   "execution_count": null,
   "metadata": {},
   "outputs": [],
   "source": [
    "model.save(category + \"_\" + attribute +\".h5\")"
   ]
  },
  {
   "cell_type": "markdown",
   "metadata": {},
   "source": [
    "# Save Predicted Results to CSV"
   ]
  },
  {
   "cell_type": "code",
   "execution_count": null,
   "metadata": {},
   "outputs": [],
   "source": [
    "results = model.predict(padded_docs_test)\n",
    "results_index = np.argsort(-results, axis=1)[:,:2] \n",
    "print(results_index[:10,])"
   ]
  },
  {
   "cell_type": "code",
   "execution_count": null,
   "metadata": {},
   "outputs": [],
   "source": [
    "results_index = np.array(results_index, str)\n",
    "results_top2 = np.array(list(map(' '.join, results_index))).reshape(-1,1)\n",
    "print(len(results_top2))\n",
    "results_top2"
   ]
  },
  {
   "cell_type": "code",
   "execution_count": null,
   "metadata": {},
   "outputs": [],
   "source": [
    "itemid_list = np.array([s + \"_\" + attribute for s in np.array(data_test[\"itemid\"], str)]).reshape(-1,1)\n",
    "print(len(itemid_list))\n",
    "itemid_list"
   ]
  },
  {
   "cell_type": "code",
   "execution_count": null,
   "metadata": {},
   "outputs": [],
   "source": [
    "results_to_export = np.concatenate((itemid_list, results_top2), axis=1)\n",
    "results_to_export\n",
    "np.savetxt(\"results/\" + category + \"_\" + attribute + \".csv\", results_to_export, delimiter=\",\", fmt='%s')"
   ]
  }
 ],
 "metadata": {
  "kernelspec": {
   "display_name": "Python 3",
   "language": "python",
   "name": "python3"
  },
  "language_info": {
   "codemirror_mode": {
    "name": "ipython",
    "version": 3
   },
   "file_extension": ".py",
   "mimetype": "text/x-python",
   "name": "python",
   "nbconvert_exporter": "python",
   "pygments_lexer": "ipython3",
   "version": "3.6.8"
  }
 },
 "nbformat": 4,
 "nbformat_minor": 2
}
