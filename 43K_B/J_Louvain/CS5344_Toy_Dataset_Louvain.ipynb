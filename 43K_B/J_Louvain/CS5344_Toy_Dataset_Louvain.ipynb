{
 "cells": [
  {
   "cell_type": "markdown",
   "metadata": {},
   "source": [
    "# Louvain Modularity Algorithm on Toy Dataset"
   ]
  },
  {
   "cell_type": "markdown",
   "metadata": {},
   "source": [
    "## Import libraries"
   ]
  },
  {
   "cell_type": "code",
   "execution_count": 1,
   "metadata": {},
   "outputs": [],
   "source": [
    "import networkx as nx\n",
    "import matplotlib.pyplot as plt\n",
    "from community import community_louvain\n",
    "import pandas as pd\n",
    "import numpy as np\n",
    "import re\n",
    "from nf1 import NF1"
   ]
  },
  {
   "cell_type": "code",
   "execution_count": 2,
   "metadata": {},
   "outputs": [],
   "source": [
    "%matplotlib inline"
   ]
  },
  {
   "cell_type": "code",
   "execution_count": 3,
   "metadata": {},
   "outputs": [],
   "source": [
    "path = 'C:/Users/Simon/Desktop/CS5344 Group Project/'"
   ]
  },
  {
   "cell_type": "markdown",
   "metadata": {},
   "source": [
    "## Create networkX graph "
   ]
  },
  {
   "cell_type": "code",
   "execution_count": 4,
   "metadata": {},
   "outputs": [],
   "source": [
    "G = nx.read_edgelist(\"C:/Users/Simon/Desktop/CS5344 Group Project/toy_edgelist.txt\",\n",
    "                     create_using = nx.Graph(), nodetype = int, delimiter= '\\t')"
   ]
  },
  {
   "cell_type": "code",
   "execution_count": 5,
   "metadata": {},
   "outputs": [
    {
     "name": "stdout",
     "output_type": "stream",
     "text": [
      "Name: \n",
      "Type: Graph\n",
      "Number of nodes: 34\n",
      "Number of edges: 111\n",
      "Average degree:   6.5294\n"
     ]
    }
   ],
   "source": [
    "print(nx.info(G))"
   ]
  },
  {
   "cell_type": "code",
   "execution_count": 6,
   "metadata": {},
   "outputs": [
    {
     "name": "stdout",
     "output_type": "stream",
     "text": [
      "Wall time: 9.98 ms\n"
     ]
    }
   ],
   "source": [
    "#first compute the best partition\n",
    "%time partition = community_louvain.best_partition(G)"
   ]
  },
  {
   "cell_type": "code",
   "execution_count": 7,
   "metadata": {},
   "outputs": [
    {
     "data": {
      "text/plain": [
       "[(1, 2, 3, 4, 5, 6, 25, 7, 8),\n",
       " (33, 32, 34, 31, 35, 36, 37),\n",
       " (42, 41, 44, 43, 45),\n",
       " (17, 13, 11, 12, 14, 15, 16),\n",
       " (27, 21, 26, 22, 23, 24)]"
      ]
     },
     "execution_count": 7,
     "metadata": {},
     "output_type": "execute_result"
    }
   ],
   "source": [
    "# gets all the communities for the louvain method (USE F1 package convert to tuple)\n",
    "node_comm = []\n",
    "for com in set(partition.values()) :                            #iterating through communities (in this case 0-4)\n",
    "    list_nodes = [nodes for nodes in partition.keys()           #iterating through all nodes\n",
    "                                if partition[nodes] == com]\n",
    "    node_comm.append(tuple(list_nodes))\n",
    "node_comm"
   ]
  },
  {
   "cell_type": "markdown",
   "metadata": {},
   "source": [
    "## Read in ground truth "
   ]
  },
  {
   "cell_type": "code",
   "execution_count": 8,
   "metadata": {},
   "outputs": [
    {
     "data": {
      "text/html": [
       "<div>\n",
       "<style scoped>\n",
       "    .dataframe tbody tr th:only-of-type {\n",
       "        vertical-align: middle;\n",
       "    }\n",
       "\n",
       "    .dataframe tbody tr th {\n",
       "        vertical-align: top;\n",
       "    }\n",
       "\n",
       "    .dataframe thead th {\n",
       "        text-align: right;\n",
       "    }\n",
       "</style>\n",
       "<table border=\"1\" class=\"dataframe\">\n",
       "  <thead>\n",
       "    <tr style=\"text-align: right;\">\n",
       "      <th></th>\n",
       "      <th>0</th>\n",
       "      <th>1</th>\n",
       "      <th>2</th>\n",
       "      <th>3</th>\n",
       "      <th>4</th>\n",
       "      <th>5</th>\n",
       "      <th>6</th>\n",
       "      <th>7</th>\n",
       "      <th>8</th>\n",
       "    </tr>\n",
       "  </thead>\n",
       "  <tbody>\n",
       "    <tr>\n",
       "      <th>0</th>\n",
       "      <td>1</td>\n",
       "      <td>2</td>\n",
       "      <td>3</td>\n",
       "      <td>4</td>\n",
       "      <td>5</td>\n",
       "      <td>6.0</td>\n",
       "      <td>7.0</td>\n",
       "      <td>8.0</td>\n",
       "      <td>25.0</td>\n",
       "    </tr>\n",
       "    <tr>\n",
       "      <th>1</th>\n",
       "      <td>11</td>\n",
       "      <td>12</td>\n",
       "      <td>13</td>\n",
       "      <td>14</td>\n",
       "      <td>15</td>\n",
       "      <td>16.0</td>\n",
       "      <td>17.0</td>\n",
       "      <td>NaN</td>\n",
       "      <td>NaN</td>\n",
       "    </tr>\n",
       "    <tr>\n",
       "      <th>2</th>\n",
       "      <td>21</td>\n",
       "      <td>22</td>\n",
       "      <td>23</td>\n",
       "      <td>24</td>\n",
       "      <td>26</td>\n",
       "      <td>27.0</td>\n",
       "      <td>NaN</td>\n",
       "      <td>NaN</td>\n",
       "      <td>NaN</td>\n",
       "    </tr>\n",
       "    <tr>\n",
       "      <th>3</th>\n",
       "      <td>31</td>\n",
       "      <td>32</td>\n",
       "      <td>33</td>\n",
       "      <td>34</td>\n",
       "      <td>35</td>\n",
       "      <td>36.0</td>\n",
       "      <td>37.0</td>\n",
       "      <td>NaN</td>\n",
       "      <td>NaN</td>\n",
       "    </tr>\n",
       "    <tr>\n",
       "      <th>4</th>\n",
       "      <td>41</td>\n",
       "      <td>42</td>\n",
       "      <td>43</td>\n",
       "      <td>44</td>\n",
       "      <td>45</td>\n",
       "      <td>NaN</td>\n",
       "      <td>NaN</td>\n",
       "      <td>NaN</td>\n",
       "      <td>NaN</td>\n",
       "    </tr>\n",
       "  </tbody>\n",
       "</table>\n",
       "</div>"
      ],
      "text/plain": [
       "    0   1   2   3   4     5     6    7     8\n",
       "0   1   2   3   4   5   6.0   7.0  8.0  25.0\n",
       "1  11  12  13  14  15  16.0  17.0  NaN   NaN\n",
       "2  21  22  23  24  26  27.0   NaN  NaN   NaN\n",
       "3  31  32  33  34  35  36.0  37.0  NaN   NaN\n",
       "4  41  42  43  44  45   NaN   NaN  NaN   NaN"
      ]
     },
     "execution_count": 8,
     "metadata": {},
     "output_type": "execute_result"
    }
   ],
   "source": [
    "toy_cmty_df =pd.read_csv(path + 'toy_cmty.txt', delimiter='\\t', header= None)\n",
    "toy_cmty_df.head()"
   ]
  },
  {
   "cell_type": "code",
   "execution_count": 9,
   "metadata": {},
   "outputs": [
    {
     "data": {
      "text/plain": [
       "[[1, 2, 3, 4, 5, 6, 7, 8, 25],\n",
       " [11, 12, 13, 14, 15, 16, 17],\n",
       " [21, 22, 23, 24, 26, 27],\n",
       " [31, 32, 33, 34, 35, 36, 37],\n",
       " [41, 42, 43, 44, 45]]"
      ]
     },
     "execution_count": 9,
     "metadata": {},
     "output_type": "execute_result"
    }
   ],
   "source": [
    "# Convert to proper form for nf1 calculation\n",
    "toy_cmty_list = []\n",
    "for row in range(len(toy_cmty_df)):\n",
    "    toy_cmty_list.append(list(toy_cmty_df.iloc[row].dropna()))\n",
    "    \n",
    "for pos in range(len(toy_cmty_list)):\n",
    "    toy_cmty_list[pos] = list(pd.to_numeric(toy_cmty_list[pos], downcast='integer'))\n",
    "    \n",
    "toy_cmty_list"
   ]
  },
  {
   "cell_type": "code",
   "execution_count": 10,
   "metadata": {},
   "outputs": [
    {
     "name": "stdout",
     "output_type": "stream",
     "text": [
      "                          Value\n",
      "Index                          \n",
      "Ground Truth Communities    5.0\n",
      "Identified Communities      5.0\n",
      "Community Ratio             1.0\n",
      "Ground Truth Matched        1.0\n",
      "Node Coverage               1.0\n",
      "NF1                         1.0\n",
      "   F1 min  F1 max  F1 mean  F1 mode  F1 std\n",
      "0     1.0     1.0      1.0      1.0     0.0\n"
     ]
    }
   ],
   "source": [
    "# Calculate f1 for toy dataset\n",
    "nf = NF1(node_comm, toy_cmty_list)\n",
    "results = nf.summary()\n",
    "print(results['scores'])\n",
    "print(results['details'])"
   ]
  },
  {
   "cell_type": "code",
   "execution_count": 11,
   "metadata": {},
   "outputs": [
    {
     "name": "stderr",
     "output_type": "stream",
     "text": [
      "C:\\Users\\Simon\\Anaconda3\\lib\\site-packages\\networkx\\drawing\\nx_pylab.py:611: MatplotlibDeprecationWarning: isinstance(..., numbers.Number)\n",
      "  if cb.is_numlike(alpha):\n"
     ]
    },
    {
     "data": {
      "image/png": "[encoded data removed]",
      "text/plain": [
       "<Figure size 432x288 with 1 Axes>"
      ]
     },
     "metadata": {
      "needs_background": "light"
     },
     "output_type": "display_data"
    },
    {
     "data": {
      "image/png": "[encoded data removed]",
      "text/plain": [
       "<Figure size 432x288 with 1 Axes>"
      ]
     },
     "metadata": {
      "needs_background": "light"
     },
     "output_type": "display_data"
    }
   ],
   "source": [
    "#drawing\n",
    "node_col = ['r', 'g', 'b', 'm', 'y']\n",
    "size = float(len(set(partition.values())))                      #number of unique communities (in this case 5 communities)\n",
    "pos = nx.spring_layout(G)                                       #position of node\n",
    "count = 0.\n",
    "for com in set(partition.values()) :                            #iterating through communities (in this case 0-4)\n",
    "    node_colour = node_col[com]\n",
    "    count = count + 1.\n",
    "    list_nodes = [nodes for nodes in partition.keys()           #iterating through all nodes\n",
    "                                if partition[nodes] == com]     #for each iteration, get community number for each node if node belongs to community, store in node list\n",
    "    nx.draw_networkx_nodes(G, pos, list_nodes, node_size = 35,\n",
    "                                node_color = node_colour)\n",
    "                                #node_color = str(count / size))\n",
    "nx.draw_networkx_edges(G, pos, alpha=0.5)\n",
    "plt.show()\n",
    "\n",
    "\n",
    "plt.axis(\"off\")\n",
    "nx.draw_networkx(G, pos = pos, with_labels = None, node_size =35)"
   ]
  },
  {
   "cell_type": "code",
   "execution_count": 12,
   "metadata": {},
   "outputs": [
    {
     "name": "stdout",
     "output_type": "stream",
     "text": [
      "modularity: 0.5985715445174905\n"
     ]
    }
   ],
   "source": [
    "mod = community_louvain.modularity(partition,G)\n",
    "print(\"modularity:\", mod)"
   ]
  }
 ],
 "metadata": {
  "kernelspec": {
   "display_name": "Python 3",
   "language": "python",
   "name": "python3"
  },
  "language_info": {
   "codemirror_mode": {
    "name": "ipython",
    "version": 3
   },
   "file_extension": ".py",
   "mimetype": "text/x-python",
   "name": "python",
   "nbconvert_exporter": "python",
   "pygments_lexer": "ipython3",
   "version": "3.6.8"
  },
  "toc": {
   "base_numbering": 1,
   "nav_menu": {},
   "number_sections": true,
   "sideBar": true,
   "skip_h1_title": false,
   "title_cell": "Table of Contents",
   "title_sidebar": "Contents",
   "toc_cell": false,
   "toc_position": {},
   "toc_section_display": true,
   "toc_window_display": false
  }
 },
 "nbformat": 4,
 "nbformat_minor": 2
}
