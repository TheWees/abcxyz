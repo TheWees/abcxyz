{
 "cells": [
  {
   "cell_type": "code",
   "execution_count": 1,
   "metadata": {},
   "outputs": [],
   "source": [
    "import pandas as pd\n",
    "import numpy as np\n",
    "import re\n",
    "from urllib.request import Request, urlopen\n",
    "from bs4 import BeautifulSoup"
   ]
  },
  {
   "cell_type": "code",
   "execution_count": null,
   "metadata": {},
   "outputs": [],
   "source": [
    "from selenium import webdriver\n",
    "from selenium.common.exceptions import NoSuchElementException\n",
    "from selenium.webdriver.common.desired_capabilities import DesiredCapabilities\n",
    "from selenium.webdriver.common.by import By\n",
    "from selenium.webdriver.support.ui import WebDriverWait\n",
    "from selenium.webdriver.support import expected_conditions as EC\n",
    "import time\n",
    "\n",
    "seconds = 5\n",
    "\n",
    "#You need to download the webdriver for chrome then change the path where the .exe file is located\n",
    "driver = webdriver.Chrome(executable_path='/Users/weeliyen/chromedriver/chromedriver') #Open Chrome\n",
    "driver.implicitly_wait(20)\n",
    "\n",
    "# driver.get(\"https://www.fairprice.com.sg/household\")\n",
    "driver.get(\"https://www.fairprice.com.sg/household/laundry-care\") #Go to URL\n",
    "time.sleep(seconds)\n",
    "time.sleep(seconds)\n",
    "\n",
    "while True:\n",
    "    try:\n",
    "        loadMore = driver.find_element_by_id('WC_SearchBasedNavigationResults_LoadMoreProducts') #Find Load More button\n",
    "        time.sleep(seconds)\n",
    "        loadMore.click()  #Click Load More button\n",
    "        time.sleep(seconds)\n",
    "    except Exception as e:\n",
    "        print(e)\n",
    "        break\n",
    "\n",
    "print(\"Complete\")"
   ]
  },
  {
   "cell_type": "code",
   "execution_count": null,
   "metadata": {},
   "outputs": [],
   "source": [
    "html = driver.page_source\n",
    "soup = BeautifulSoup(html, \"lxml\")\n",
    "\n",
    "product_name = []\n",
    "product_weight = []\n",
    "on_offer = []\n",
    "pdt_promo = []\n",
    "\n",
    "for element in soup.findAll('div',attrs={\"class\":\"pdt_list_wrap\"}):\n",
    "    for pdtname in element.findAll('img'):\n",
    "        product_name.append(pdtname['alt'])\n",
    "    for pdtwt in element.find('div',attrs={\"class\":\"pdt_Tweight\"}):\n",
    "        product_weight.append(pdtwt)\n",
    "    onoffer = element.find('span',attrs={\"class\":\"pdt_stock offer\"})\n",
    "    if onoffer is None:\n",
    "        on_offer.append(np.nan)\n",
    "    else:\n",
    "        on_offer.append(re.sub(r'\\s','',onoffer.get_text()))\n",
    "    pdtpromo = element.find('div',attrs={\"class\":\"pdt_promo\"})\n",
    "    if pdtpromo is None:\n",
    "        pdt_promo.append(np.nan)\n",
    "    else:\n",
    "        pdt_promo.append(re.sub(r'\\s','',pdtpromo.get_text()))"
   ]
  },
  {
   "cell_type": "code",
   "execution_count": null,
   "metadata": {},
   "outputs": [],
   "source": [
    "product_oprice = []\n",
    "product_cprice = []\n",
    "\n",
    "for element in soup.findAll('div',attrs={\"class\":\"pdt_price\"}):\n",
    "    pdtcprice = element.find('span',attrs={\"class\":\"pdt_C_price\"}).get_text()\n",
    "    pdtcprice = re.sub(r'\\s','',pdtcprice)\n",
    "    product_cprice.append(pdtcprice)\n",
    "    pdtoprice = element.find('span',attrs={\"class\":\"pdt_O_price\"})\n",
    "    if pdtoprice is None:\n",
    "        product_oprice.append(np.nan)\n",
    "    else:\n",
    "        product_oprice.append(re.sub(r'\\s','',pdtoprice.get_text()))"
   ]
  },
  {
   "cell_type": "code",
   "execution_count": null,
   "metadata": {},
   "outputs": [],
   "source": [
    "driver.quit()"
   ]
  },
  {
   "cell_type": "code",
   "execution_count": null,
   "metadata": {},
   "outputs": [],
   "source": [
    "data = {'name': product_name,\n",
    "        'weight': product_weight,\n",
    "        'on_offer': on_offer,\n",
    "        'promotion': pdt_promo,\n",
    "        'current_price': product_cprice,\n",
    "        'original_price': product_oprice}"
   ]
  },
  {
   "cell_type": "code",
   "execution_count": null,
   "metadata": {},
   "outputs": [],
   "source": [
    "frame = pd.DataFrame(data)\n",
    "frame"
   ]
  },
  {
   "cell_type": "code",
   "execution_count": null,
   "metadata": {},
   "outputs": [],
   "source": []
  }
 ],
 "metadata": {
  "kernelspec": {
   "display_name": "Python 3",
   "language": "python",
   "name": "python3"
  },
  "language_info": {
   "codemirror_mode": {
    "name": "ipython",
    "version": 3
   },
   "file_extension": ".py",
   "mimetype": "text/x-python",
   "name": "python",
   "nbconvert_exporter": "python",
   "pygments_lexer": "ipython3",
   "version": "3.6.6"
  }
 },
 "nbformat": 4,
 "nbformat_minor": 2
}
